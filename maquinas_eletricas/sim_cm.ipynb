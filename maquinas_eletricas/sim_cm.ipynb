{
 "cells": [
  {
   "cell_type": "markdown",
   "metadata": {},
   "source": [
    "# 1. Equação Analítica aproximada da Magnetização\n",
    "\n",
    "*Baseado no exercício 1.5 Fitzgerald- Máquinas Elétricas - 6°ed*\n",
    "\n",
    "Quando consideramos o comportamento real da um núcleo magnético, a permeabilidade não é linear, deste modo há uma \n",
    "dependência do valor da indução magnética dada caracteristicamente como exemplo pela função:\n",
    "\n",
    "$$\\mu_r(B_m)=\\mu_0 \\bigg (1+\\frac{3499}{\\sqrt{1+0.047.(B_m)^{7.8}}} \\bigg)$$"
   ]
  },
  {
   "cell_type": "code",
   "execution_count": 1,
   "metadata": {},
   "outputs": [
    {
     "data": {
      "image/png": "[encoded data removed]",
      "text/plain": [
       "<Figure size 432x288 with 1 Axes>"
      ]
     },
     "metadata": {
      "needs_background": "light"
     },
     "output_type": "display_data"
    }
   ],
   "source": [
    "from sympy import *\n",
    "%matplotlib inline\n",
    "\n",
    "u0,g,ac,n,lc=symbols('mu_0, g, A_c,N,l_c')\n",
    "\n",
    "def mu(bm):\n",
    "    return u0*(1+(3499)/((1+0.047*(bm**7.8))**.5))\n",
    "\n",
    "i=symbols('i')\n",
    "\n",
    "i=1.5\n",
    "\n",
    "def hc(bm):\n",
    "    return bm/mu(bm)\n",
    "    \n",
    "import numpy as np\n",
    "\n",
    "b=np.linspace(0,2.2,1000)\n",
    "\n",
    "u0,g,ac,n=4*np.pi*(1e-7),2.3*1e-3,1.8*1e-3,83\n",
    "\n",
    "h=hc(b)\n",
    "\n",
    "import matplotlib.pyplot as plt\n",
    "\n",
    "plt.subplot(xlabel='Intensidade de campo - H(A.e/m)', ylabel='Indução Magnética - B(T)')\n",
    "plt.plot(h,b)\n",
    "plt.grid()"
   ]
  },
  {
   "cell_type": "markdown",
   "metadata": {},
   "source": [
    "# 2. Análise Numérica da Curva de Magnetização\n",
    "\n",
    "*Baseado no exercício 1.29 Fitzgerald- Máquinas Elétricas - 6°ed*"
   ]
  },
  {
   "cell_type": "markdown",
   "metadata": {},
   "source": [
    "Por um levantamento de dados da magnetização de um núcleo magnético, o fabricante pode chegar a seguinte configuração:"
   ]
  },
  {
   "cell_type": "code",
   "execution_count": 7,
   "metadata": {},
   "outputs": [
    {
     "data": {
      "text/html": [
       "<div>\n",
       "<style scoped>\n",
       "    .dataframe tbody tr th:only-of-type {\n",
       "        vertical-align: middle;\n",
       "    }\n",
       "\n",
       "    .dataframe tbody tr th {\n",
       "        vertical-align: top;\n",
       "    }\n",
       "\n",
       "    .dataframe thead th {\n",
       "        text-align: right;\n",
       "    }\n",
       "</style>\n",
       "<table border=\"1\" class=\"dataframe\">\n",
       "  <thead>\n",
       "    <tr style=\"text-align: right;\">\n",
       "      <th></th>\n",
       "      <th>i</th>\n",
       "      <th>B</th>\n",
       "      <th>H</th>\n",
       "    </tr>\n",
       "  </thead>\n",
       "  <tbody>\n",
       "    <tr>\n",
       "      <th>0</th>\n",
       "      <td>1</td>\n",
       "      <td>0.00</td>\n",
       "      <td>48</td>\n",
       "    </tr>\n",
       "    <tr>\n",
       "      <th>1</th>\n",
       "      <td>2</td>\n",
       "      <td>0.20</td>\n",
       "      <td>52</td>\n",
       "    </tr>\n",
       "    <tr>\n",
       "      <th>2</th>\n",
       "      <td>3</td>\n",
       "      <td>0.40</td>\n",
       "      <td>58</td>\n",
       "    </tr>\n",
       "    <tr>\n",
       "      <th>3</th>\n",
       "      <td>4</td>\n",
       "      <td>0.60</td>\n",
       "      <td>73</td>\n",
       "    </tr>\n",
       "    <tr>\n",
       "      <th>4</th>\n",
       "      <td>5</td>\n",
       "      <td>0.70</td>\n",
       "      <td>85</td>\n",
       "    </tr>\n",
       "    <tr>\n",
       "      <th>5</th>\n",
       "      <td>6</td>\n",
       "      <td>0.80</td>\n",
       "      <td>103</td>\n",
       "    </tr>\n",
       "    <tr>\n",
       "      <th>6</th>\n",
       "      <td>7</td>\n",
       "      <td>0.90</td>\n",
       "      <td>135</td>\n",
       "    </tr>\n",
       "    <tr>\n",
       "      <th>7</th>\n",
       "      <td>8</td>\n",
       "      <td>1.00</td>\n",
       "      <td>193</td>\n",
       "    </tr>\n",
       "    <tr>\n",
       "      <th>8</th>\n",
       "      <td>9</td>\n",
       "      <td>0.95</td>\n",
       "      <td>80</td>\n",
       "    </tr>\n",
       "    <tr>\n",
       "      <th>9</th>\n",
       "      <td>10</td>\n",
       "      <td>0.90</td>\n",
       "      <td>42</td>\n",
       "    </tr>\n",
       "    <tr>\n",
       "      <th>10</th>\n",
       "      <td>11</td>\n",
       "      <td>0.80</td>\n",
       "      <td>2</td>\n",
       "    </tr>\n",
       "    <tr>\n",
       "      <th>11</th>\n",
       "      <td>12</td>\n",
       "      <td>0.70</td>\n",
       "      <td>-18</td>\n",
       "    </tr>\n",
       "    <tr>\n",
       "      <th>12</th>\n",
       "      <td>13</td>\n",
       "      <td>0.60</td>\n",
       "      <td>-29</td>\n",
       "    </tr>\n",
       "    <tr>\n",
       "      <th>13</th>\n",
       "      <td>14</td>\n",
       "      <td>0.40</td>\n",
       "      <td>-40</td>\n",
       "    </tr>\n",
       "    <tr>\n",
       "      <th>14</th>\n",
       "      <td>15</td>\n",
       "      <td>0.20</td>\n",
       "      <td>-45</td>\n",
       "    </tr>\n",
       "    <tr>\n",
       "      <th>15</th>\n",
       "      <td>16</td>\n",
       "      <td>0.00</td>\n",
       "      <td>-48</td>\n",
       "    </tr>\n",
       "  </tbody>\n",
       "</table>\n",
       "</div>"
      ],
      "text/plain": [
       "     i     B    H\n",
       "0    1  0.00   48\n",
       "1    2  0.20   52\n",
       "2    3  0.40   58\n",
       "3    4  0.60   73\n",
       "4    5  0.70   85\n",
       "5    6  0.80  103\n",
       "6    7  0.90  135\n",
       "7    8  1.00  193\n",
       "8    9  0.95   80\n",
       "9   10  0.90   42\n",
       "10  11  0.80    2\n",
       "11  12  0.70  -18\n",
       "12  13  0.60  -29\n",
       "13  14  0.40  -40\n",
       "14  15  0.20  -45\n",
       "15  16  0.00  -48"
      ]
     },
     "execution_count": 7,
     "metadata": {},
     "output_type": "execute_result"
    }
   ],
   "source": [
    "import pandas as pd\n",
    "pd.read_excel('1.29 - Data.xlsx')"
   ]
  },
  {
   "cell_type": "code",
   "execution_count": 13,
   "metadata": {},
   "outputs": [
    {
     "data": {
      "image/png": "[encoded data removed]",
      "text/plain": [
       "<Figure size 432x288 with 1 Axes>"
      ]
     },
     "metadata": {
      "needs_background": "light"
     },
     "output_type": "display_data"
    }
   ],
   "source": [
    "import matplotlib.pyplot as plt\n",
    "\n",
    "b,h=tabela['B'],tabela['H']\n",
    "plt.subplot(xlabel='H(A.e/m)', ylabel='B(T)')\n",
    "plt.plot(h,b)\n",
    "plt.show()"
   ]
  },
  {
   "cell_type": "markdown",
   "metadata": {},
   "source": [
    "Essa é a curva característica de um núcleo ferromagnético, a energia armazenda é dada pela área da curva."
   ]
  },
  {
   "cell_type": "markdown",
   "metadata": {},
   "source": [
    "Para o cálculo de sua energia armazenada podemos utilizar um método numérico de integração,\n",
    "\n",
    "um dos algoritmos para conseguir a área é pelo métodos da soma de trapézios, que para o problema em específico reduz-se a:\n",
    "\n",
    "$A_t = \\displaystyle\\sum_{n=0}^{n=N-1}\\bigg|\\frac{(y_{i+1}-y_i)\\cdot(x_{i+1}-x_i)}{2} \\bigg| + |y_i.(x_{i+1}-x_i)|$ \n",
    "\n",
    "onde N=16 no exemplo\n",
    "\n",
    "O código abaixo está sintetizado por diferenças regressivas, mas obedece a mesma ideia da equação acima pela diminuição progressiva."
   ]
  },
  {
   "cell_type": "code",
   "execution_count": 95,
   "metadata": {},
   "outputs": [
    {
     "data": {
      "text/plain": [
       "[0.4,\n",
       " 1.8000000000000003,\n",
       " 7.5,\n",
       " 7.799999999999999,\n",
       " 13.5,\n",
       " 27.200000000000003,\n",
       " 55.1,\n",
       " 110.175,\n",
       " 35.15,\n",
       " 34.0,\n",
       " 15.0,\n",
       " 7.1499999999999995,\n",
       " 5.5,\n",
       " 1.5,\n",
       " 0.30000000000000004]"
      ]
     },
     "execution_count": 95,
     "metadata": {},
     "output_type": "execute_result"
    }
   ],
   "source": [
    "def trapezios(v_x,v_y,ai=[]):\n",
    "    #Em teoria, tamanho de v_x é o mesmo de v_y\n",
    "    if len(v_x)==len(v_y):\n",
    "        for i in range(1,len(v_x)):\n",
    "            if v_x[i]>v_x[i-1]:\n",
    "                ai.append(abs(((v_y[i]-v_y[i-1])*(v_x[i]-v_x[i-1]))/2)+abs(v_y[i-1]*(v_x[i]-v_x[i-1])))\n",
    "            else:\n",
    "                ai.append(abs(((v_y[i]-v_y[i-1])*(v_x[i]-v_x[i-1]))/2)+abs(v_y[i]*(v_x[i]-v_x[i-1])))\n",
    "        return ai\n",
    "    else:\n",
    "        print(\"Erro, tamanhos dos vetores são Diferentes\")\n",
    "    \n",
    "\n",
    "ai=trapezios(vh,vb)\n",
    "\n",
    "ai#Áreas dos Trapézios"
   ]
  },
  {
   "cell_type": "markdown",
   "metadata": {},
   "source": [
    "Cabe observar que a partir da posição 6, as áreas começam a se sobrepor, ou seja, saímos do ponto de saturação máximo para um menor, deste modo estamos considerando uma redundância se tomarmos o somatório do vetor de áreas encontrado, então faz sentido considerar que:\n",
    "\n",
    "\n",
    "$A_{curva}=\\sum_{i=6}^{15}A_i - \\sum_{i=0}^{5}A_i $"
   ]
  },
  {
   "cell_type": "code",
   "execution_count": 99,
   "metadata": {},
   "outputs": [
    {
     "data": {
      "text/plain": [
       "205.675"
      ]
     },
     "execution_count": 99,
     "metadata": {},
     "output_type": "execute_result"
    }
   ],
   "source": [
    "a_curva=sum(ai[6:])-sum(ai[:6])\n",
    "a_curva"
   ]
  },
  {
   "cell_type": "markdown",
   "metadata": {},
   "source": [
    "Sendo assim, a energia armazenada no imã é de aproximadamente: $W \\cong 205J$\n"
   ]
  },
  {
   "cell_type": "markdown",
   "metadata": {},
   "source": [
    "# 3.Variação da indutância com a permeabilidade relativa\n",
    "\n",
    "*Baseado no ex. 1.11 do capítulo 1,  Fitzgerald - Máquinas elétricas 6° ed*\n",
    "\n",
    "Pelo circuito magnético da figura abaixo, derivamos algumas equações:\n",
    "\n",
    "![](imgs/im1-11.png)\n",
    "\n",
    "O comprimento médio de seu núcleo magnético é dado por:\n",
    "\n",
    "$$[1.1]: l_c=\\pi.(R_e+R_i) - g$$\n",
    "\n",
    "Se a altura do ferro for $h$, temos que sua área pode ser expressa por:\n",
    "\n",
    "$$[1.2]: A_c = h.(R_e - R_i)$$\n",
    "\n",
    "O que por consequência nos fornece uma relutância do ferro de:\n",
    "\n",
    "$$[1.3]: \\Re_c = \\frac{\\pi.(R_e+R_i)-g}{\\mu_c.(R_e-R_i).h}$$\n",
    "\n",
    "\n",
    "Já a relutância de entreferro fica representada como:\n",
    "\n",
    "$$[1.4]: \\Re_g = \\frac{g}{\\mu_0.(R_e-R_i).h}$$\n",
    "\n",
    "\n",
    "Se desprezarmos os efeitos de espraiamento,considerando que:\n",
    "$$[1.5]: \\phi_c=\\phi_g$$\n",
    "\n",
    "Ao aplicarmos o análogo magnético da LKT no circuito teremos:\n",
    "\n",
    "$$[1.6]: \\Im = \\phi_c.(\\Re_c+\\Re_g)$$\n",
    "\n",
    "ou \n",
    "\n",
    "$$[1.6.1]: \\phi_c=\\frac{\\Im}{\\Re_c+\\Re_g}$$\n",
    "\n",
    "Substituindo $[1.6.1]$ em $[1.5]$, teremos após expansão algébrica:\n",
    "\n",
    "$$[1.5.1]: \\phi_c = \\frac{A_c.\\mu_c.N.i}{g.\\mu_r+l_c} $$\n",
    "\n",
    "em que : $i=\\frac{\\Im}{N}$\n",
    "\n",
    "Pela definição de fluxo concatenado temos:\n",
    "$$[1.7]: \\lambda=N.\\phi$$\n",
    "\n",
    "\n",
    "E pela definição de indutância própria:\n",
    "\n",
    "$$[1.8]: L = \\frac{\\lambda}{i}$$\n",
    "\n",
    "\n",
    "De modo  que ao substituirmos $[1.5.1]$ em $[1.8]$ e em sequência em $[1.9]$, teremos uma indutância própria dada por:\n",
    "\n",
    "$$[1.8.1]:L(\\mu_r)=\\cfrac{N^2.A_c.\\mu_0}{l_c+g.\\mu_r}$$\n",
    "\n",
    "\n",
    "onde $\\mu_r=\\frac{\\mu_c}{\\mu_0}$."
   ]
  },
  {
   "cell_type": "markdown",
   "metadata": {},
   "source": [
    "Para dados valores raio externo $4.0\\,cm$, raio internor $3.4\\,  cm$, $h=2\\,cm$ , entreferro de $0.2\\,cm$ e número de espiras correspondente a $65$, teremos:"
   ]
  },
  {
   "cell_type": "code",
   "execution_count": 12,
   "metadata": {
    "scrolled": true
   },
   "outputs": [
    {
     "data": {
      "image/png": "[encoded data removed]",
      "text/plain": [
       "<Figure size 432x288 with 1 Axes>"
      ]
     },
     "metadata": {
      "needs_background": "light"
     },
     "output_type": "display_data"
    }
   ],
   "source": [
    "from sympy import *\n",
    "\n",
    "ac,u, lc, g, n =symbols('A_c, mu, l_c, g, N')\n",
    "\n",
    "ac=2*1e-2*(0.6)*1e-2\n",
    "\n",
    "from math import pi\n",
    "\n",
    "lc=pi*(3.4+4.0)*1e-2 - 0.2*1e-2\n",
    "\n",
    "def L(ur):\n",
    "    return (n**2*ac*ur*(4*pi*1e-7))/(lc+g*(ur))\n",
    "    \n",
    "import numpy as np\n",
    "\n",
    "v_ur=np.logspace(2,4,1000)\n",
    "\n",
    "import matplotlib.pyplot as plt\n",
    "\n",
    "n=65\n",
    "\n",
    "g,h=0.2*1e-2,2*1e-2\n",
    "\n",
    "plt.subplot(xlabel='Permeabilidade Relativa', ylabel='Indutância (mH)', xscale='log')\n",
    "plt.plot(v_ur,L(v_ur)*1e3)\n",
    "plt.grid()\n",
    "plt.show()"
   ]
  }
 ],
 "metadata": {
  "kernelspec": {
   "display_name": "Python 3",
   "language": "python",
   "name": "python3"
  },
  "language_info": {
   "codemirror_mode": {
    "name": "ipython",
    "version": 3
   },
   "file_extension": ".py",
   "mimetype": "text/x-python",
   "name": "python",
   "nbconvert_exporter": "python",
   "pygments_lexer": "ipython3",
   "version": "3.7.3"
  }
 },
 "nbformat": 4,
 "nbformat_minor": 2
}
